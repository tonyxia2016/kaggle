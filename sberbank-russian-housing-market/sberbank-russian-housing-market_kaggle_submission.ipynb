{
 "cells": [
  {
   "cell_type": "code",
   "execution_count": 1,
   "metadata": {
    "collapsed": true
   },
   "outputs": [],
   "source": [
    "import numpy as np\n",
    "import pandas as pd\n",
    "import matplotlib.pyplot as plt\n",
    "from sklearn import model_selection, preprocessing\n",
    "# import seaborn as sns\n",
    "%matplotlib inline\n",
    "import xgboost as xgb\n",
    "from sklearn import linear_model\n",
    "import operator"
   ]
  },
  {
   "cell_type": "markdown",
   "metadata": {},
   "source": [
    "### Read the data and check the shapes"
   ]
  },
  {
   "cell_type": "code",
   "execution_count": 14,
   "metadata": {
    "collapsed": true
   },
   "outputs": [],
   "source": [
    "def load_data():\n",
    "    train_df = pd.read_csv('./data/train.csv')\n",
    "    x_test_df = pd.read_csv('./data/test.csv')\n",
    "    \n",
    "    y_train = train_df['price_doc'].as_matrix()\n",
    "    x_train_df = train_df.drop(['price_doc'],1)\n",
    "    return (x_train_df, y_train, x_test_df)\n",
    "\n",
    "#x_train_df, y_train, x_test_df = load_data()\n",
    "\n",
    "def impute_data(df):\n",
    "    columns_with_nulls = df.columns[df.isnull().any()].tolist()\n",
    "    string_columns = df.select_dtypes(include=['object']).columns.tolist()\n",
    "\n",
    "    for col in columns_with_nulls:\n",
    "        if col in string_columns:\n",
    "            #populate the most common categorical value\n",
    "            df[col] = df[col].fillna(df[col].value_counts().index[0])\n",
    "        else:\n",
    "            #populate with mean of column for missing values\n",
    "            df[col] = df[col].fillna(np.mean(df[col]))\n",
    "    return df   \n",
    "\n",
    "def add_features(df):\n",
    "    x_dt = pd.to_datetime(df['timestamp'],format='%Y-%m-%d')\n",
    "    df['year'] = x_dt.dt.year\n",
    "    df['month'] =  x_dt.dt.month\n",
    "    df['day'] = x_dt.dt.day\n",
    "    df['quarter'] = x_dt.dt.quarter\n",
    "    df['days_since'] = (x_dt - x_dt.min()).astype('timedelta64[D]')\n",
    "    return df\n",
    "\n",
    "def onehot_encode(df,include_string_cols=True,other_cols=[]):\n",
    "    cols = other_cols\n",
    "    if include_string_cols:\n",
    "        cols = cols.append(df.select_dtypes(include=['object']).columns.tolist())\n",
    "    return pd.get_dummies(df,columns=cols)"
   ]
  },
  {
   "cell_type": "code",
   "execution_count": 221,
   "metadata": {},
   "outputs": [
    {
     "name": "stdout",
     "output_type": "stream",
     "text": [
      "('shape after onehot encoding: ', (38133, 1887))\n"
     ]
    }
   ],
   "source": [
    "#load data\n",
    "x_train_df, y_train, x_test_df = load_data()\n",
    "\n",
    "#we should on-hot encode test and train togather as labels should math\n",
    "x_all_df = x_train_df.append(x_test_df)\n",
    "string_columns = x_train_df.select_dtypes(include=['object']).columns.tolist()\n",
    "\n",
    "#one hot encode string columns\n",
    "x_all_onehot_df = pd.get_dummies(x_all_df,columns=string_columns)\n",
    "print('shape after onehot encoding: ', x_all_onehot_df.shape)\n",
    "\n",
    "#again separate train and test features\n",
    "x_train_onehot = x_all_onehot_df[0:x_train_df.shape[0]].as_matrix()\n",
    "x_test_onehot = x_all_onehot_df[x_train_df.shape[0]::].as_matrix()"
   ]
  },
  {
   "cell_type": "markdown",
   "metadata": {},
   "source": [
    "### Train the model"
   ]
  },
  {
   "cell_type": "code",
   "execution_count": 140,
   "metadata": {},
   "outputs": [
    {
     "data": {
      "text/plain": [
       "XGBRegressor(base_score=0.5, colsample_bytree=1, gamma=0, learning_rate=0.1,\n",
       "       max_delta_step=0, max_depth=3, min_child_weight=1, missing=None,\n",
       "       n_estimators=100, nthread=-1, objective='reg:linear', seed=0,\n",
       "       silent=True, subsample=1)"
      ]
     },
     "execution_count": 140,
     "metadata": {},
     "output_type": "execute_result"
    }
   ],
   "source": [
    "model = xgb.XGBRegressor()\n",
    "model.fit(x_train_onehot, y_train)"
   ]
  },
  {
   "cell_type": "code",
   "execution_count": 141,
   "metadata": {
    "collapsed": true
   },
   "outputs": [],
   "source": [
    "y_test = model.predict(x_test_onehot)\n",
    "# y_pred = model.predict()"
   ]
  },
  {
   "cell_type": "markdown",
   "metadata": {},
   "source": [
    "### Submission 1\n",
    "So we are submitting without any feature engineering or parameter optmization for xgboost. Some columns could also be wrongly classified as string columns and one-hot encoded"
   ]
  },
  {
   "cell_type": "code",
   "execution_count": 142,
   "metadata": {
    "collapsed": true
   },
   "outputs": [],
   "source": [
    "submission = pd.DataFrame({\n",
    "    'id': x_test['id'],\n",
    "    'price_doc': y_test\n",
    "})\n",
    "submission.to_csv('./data/submission_v0.12.csv',index=False)\n",
    "\n",
    "#Ranked 836 and score was 0.32577"
   ]
  },
  {
   "cell_type": "markdown",
   "metadata": {},
   "source": [
    "### Submission 2"
   ]
  },
  {
   "cell_type": "code",
   "execution_count": 24,
   "metadata": {},
   "outputs": [
    {
     "data": {
      "text/plain": [
       "['timestamp',\n",
       " 'product_type',\n",
       " 'sub_area',\n",
       " 'culture_objects_top_25',\n",
       " 'thermal_power_plant_raion',\n",
       " 'incineration_raion',\n",
       " 'oil_chemistry_raion',\n",
       " 'radiation_raion',\n",
       " 'railroad_terminal_raion',\n",
       " 'big_market_raion',\n",
       " 'nuclear_reactor_raion',\n",
       " 'detention_facility_raion',\n",
       " 'water_1line',\n",
       " 'big_road1_1line',\n",
       " 'railroad_1line',\n",
       " 'ecology']"
      ]
     },
     "execution_count": 24,
     "metadata": {},
     "output_type": "execute_result"
    }
   ],
   "source": [
    "x_train_df, y_train, x_test_df = load_data()\n",
    "\n",
    "#we should on-hot encode test and train togather as labels should math\n",
    "x_all_df = x_train_df.append(x_test_df)\n",
    "string_columns = x_train_df.select_dtypes(include=['object']).columns.tolist()\n",
    "\n",
    "#let us check what the string columns are\n",
    "string_columns"
   ]
  },
  {
   "cell_type": "markdown",
   "metadata": {},
   "source": [
    "Timestamp is getting identifed as string. Lets fix this"
   ]
  },
  {
   "cell_type": "code",
   "execution_count": 26,
   "metadata": {},
   "outputs": [
    {
     "name": "stdout",
     "output_type": "stream",
     "text": [
      "('shape after onehot encoding: ', (38133, 1892))\n"
     ]
    }
   ],
   "source": [
    "x_all_df = add_features(x_all_df)\n",
    "\n",
    "#one hot encode string columns\n",
    "string_columns = x_train_df.select_dtypes(include=['object']).columns.tolist()\n",
    "x_all_onehot_df = pd.get_dummies(x_all_df,columns=string_columns)\n",
    "print('shape after onehot encoding: ', x_all_onehot_df.shape)\n",
    "\n",
    "#again separate train and test features\n",
    "x_train_onehot = x_all_onehot_df[0:x_train_df.shape[0]].as_matrix()\n",
    "x_test_onehot = x_all_onehot_df[x_train_df.shape[0]::].as_matrix()\n",
    "\n",
    "#train\n",
    "model = xgb.XGBRegressor(max_depth=6,learning_rate=0.05)\n",
    "model.fit(x_train_onehot, y_train)\n",
    "\n",
    "#predict\n",
    "y_test = model.predict(x_test_onehot)\n",
    "\n",
    "submission = pd.DataFrame({\n",
    "    'id': x_test_df['id'],\n",
    "    'price_doc': y_test\n",
    "})\n",
    "submission.to_csv('./data/submission_v0.31.csv',index=False)\n"
   ]
  },
  {
   "cell_type": "code",
   "execution_count": 21,
   "metadata": {},
   "outputs": [],
   "source": [
    "\n",
    "submission = pd.DataFrame({\n",
    "    'id': x_test_df['id'],\n",
    "    'price_doc': y_test\n",
    "})\n",
    "submission.to_csv('./data/submission_v0.3.csv',index=False)"
   ]
  },
  {
   "cell_type": "markdown",
   "metadata": {},
   "source": [
    "1. result is 0.33636 (if I drop datetime column), which is worse than submisison 1\n",
    "2. result is 0.32501 and rank is 767, if I retain the timestamp column, and increase the max_depth to 6 and change learning rate to 0.05\n",
    "3. result is 0.34385, when I increased depth to 20 and added the feature 'days_since'\n",
    "4. result is 0.32798, when I set max_depth to 6\n",
    "5. result is 0.32501. So 'days_since' has no impact\n"
   ]
  },
  {
   "cell_type": "code",
   "execution_count": null,
   "metadata": {},
   "outputs": [],
   "source": [
    "#we should on-hot encode test and train togather as labels should math\n",
    "# x_all_df = x_train_df.append(x_test_df)\n",
    "\n",
    "#one hot encode string columns\n",
    "x_all_onehot_df = pd.get_dummies(x_all_df,columns=string_columns)\n",
    "print('shape after onehot encoding: ', x_all_onehot_df.shape)\n",
    "\n",
    "#again separate train and test features\n",
    "x_train_onehot = x_all_onehot_df[0:x_train_df.shape[0]].as_matrix()\n",
    "x_test_onehot = x_all_onehot_df[x_train_df.shape[0]::].as_matrix()\n",
    "\n",
    "#train\n",
    "model = xgb.XGBRegressor(max_depth=6,learning_rate=0.1)\n",
    "model.fit(x_train_onehot, y_train)\n",
    "\n",
    "#predict\n",
    "y_test = model.predict(x_test_onehot)\n",
    "\n",
    "\n",
    "submission_v4 = pd.DataFrame({\n",
    "    'id': x_test['id'],\n",
    "    'price_doc': y_test\n",
    "})\n",
    "submission_v4.to_csv('./data/submission_v0.4.csv',index=False)"
   ]
  },
  {
   "cell_type": "code",
   "execution_count": 267,
   "metadata": {},
   "outputs": [
    {
     "data": {
      "text/plain": [
       "<matplotlib.axes._subplots.AxesSubplot at 0x10ced10d0>"
      ]
     },
     "execution_count": 267,
     "metadata": {},
     "output_type": "execute_result"
    },
    {
     "data": {
      "image/png": "[encoded data removed]",
      "text/plain": [
       "<matplotlib.figure.Figure at 0x10cf18bd0>"
      ]
     },
     "metadata": {},
     "output_type": "display_data"
    }
   ],
   "source": [
    "xgb.plot_importance(model.booster())\n",
    "# plt.bar(range(len(model.feature_importances_)), model.feature_importances_)\n",
    "# plt.show()"
   ]
  },
  {
   "cell_type": "markdown",
   "metadata": {},
   "source": [
    "### Regression - time series\n",
    "trees cannot take advantage of the time series information - my understanding (could be wrong). So let us try regression and combine the results"
   ]
  },
  {
   "cell_type": "code",
   "execution_count": 15,
   "metadata": {},
   "outputs": [],
   "source": [
    "x_train_df, y_train, x_test_df = load_data()\n",
    "x_all_df = x_train_df.append(x_test_df)\n",
    "x_all_df = impute_data(x_all_df)\n",
    "\n",
    "columns_with_nulls = x_all_df.columns[x_all_df.isnull().any()].tolist()\n",
    "x_all_df = add_features(x_all_df)\n",
    "x_all_df = x_all_df.drop('timestamp',axis=1)\n",
    "# x_all_df = x_all_df.drop(columns_with_nulls,axis=1)\n",
    "\n",
    "#one hot encode string columns\n",
    "x_all_onehot_df = onehot_encode(x_all_df,other_cols=['month','quarter'])\n",
    "# columns_with_nulls = x_all_df.colxgb.plot_importance(bst)umns[x_all_df.isnull().any()].tolist()"
   ]
  },
  {
   "cell_type": "code",
   "execution_count": 244,
   "metadata": {},
   "outputs": [
    {
     "data": {
      "text/plain": [
       "LinearRegression(copy_X=True, fit_intercept=True, n_jobs=1, normalize=False)"
      ]
     },
     "execution_count": 244,
     "metadata": {},
     "output_type": "execute_result"
    }
   ],
   "source": [
    "regr = linear_model.LinearRegression()\n",
    "regr.fit(x_all_onehot_df[0:x_train_df.shape[0]].as_matrix(),y_train)"
   ]
  },
  {
   "cell_type": "code",
   "execution_count": 245,
   "metadata": {
    "collapsed": true
   },
   "outputs": [],
   "source": [
    "regr_y_pred = regr.predict(x_all_onehot_df[x_train_df.shape[0]::].as_matrix())\n",
    "\n",
    "submission_v5 = pd.DataFrame({\n",
    "    'id': x_test['id'],\n",
    "    'price_doc': regr_y_pred\n",
    "})\n",
    "submission_v5.to_csv('./data/submission_regr_v0.5.csv',index=False)"
   ]
  },
  {
   "cell_type": "code",
   "execution_count": 17,
   "metadata": {},
   "outputs": [
    {
     "data": {
      "text/plain": [
       "Index([u'id', u'full_sq', u'life_sq', u'floor', u'max_floor', u'material',\n",
       "       u'build_year', u'num_room', u'kitch_sq', u'state',\n",
       "       ...\n",
       "       u'water_1line_yes', u'big_road1_1line_no', u'big_road1_1line_yes',\n",
       "       u'railroad_1line_no', u'railroad_1line_yes', u'ecology_excellent',\n",
       "       u'ecology_good', u'ecology_no data', u'ecology_poor',\n",
       "       u'ecology_satisfactory'],\n",
       "      dtype='object', length=457)"
      ]
     },
     "execution_count": 17,
     "metadata": {},
     "output_type": "execute_result"
    }
   ],
   "source": [
    "x_all_onehot_df.columns"
   ]
  },
  {
   "cell_type": "code",
   "execution_count": null,
   "metadata": {
    "collapsed": true
   },
   "outputs": [],
   "source": []
  }
 ],
 "metadata": {
  "kernelspec": {
   "display_name": "Python 2",
   "language": "python",
   "name": "python2"
  },
  "language_info": {
   "codemirror_mode": {
    "name": "ipython",
    "version": 2
   },
   "file_extension": ".py",
   "mimetype": "text/x-python",
   "name": "python",
   "nbconvert_exporter": "python",
   "pygments_lexer": "ipython2",
   "version": "2.7.13"
  }
 },
 "nbformat": 4,
 "nbformat_minor": 2
}
