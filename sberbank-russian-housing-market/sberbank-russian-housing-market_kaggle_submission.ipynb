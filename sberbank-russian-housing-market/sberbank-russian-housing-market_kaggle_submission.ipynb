{
 "cells": [
  {
   "cell_type": "code",
   "execution_count": 5,
   "metadata": {},
   "outputs": [],
   "source": [
    "import numpy as np\n",
    "import pandas as pd\n",
    "import matplotlib.pyplot as plt\n",
    "from sklearn import model_selection, preprocessing\n",
    "# import seaborn as sns\n",
    "%matplobtlib inline\n",
    "import xgboost as xgb"
   ]
  },
  {
   "cell_type": "markdown",
   "metadata": {},
   "source": [
    "### Read the data and check the shapes"
   ]
  },
  {
   "cell_type": "code",
   "execution_count": 138,
   "metadata": {},
   "outputs": [
    {
     "name": "stdout",
     "output_type": "stream",
     "text": [
      "('training data shape: ', (30471, 292))\n",
      "('test data shape: ', (7662, 291))\n"
     ]
    }
   ],
   "source": [
    "train_df = pd.read_csv('./data/train.csv')\n",
    "x_test_df = pd.read_csv('./data/test.csv')\n",
    "\n",
    "print('training data shape: ', train_df.shape)\n",
    "print('test data shape: ', x_test_df.shape)"
   ]
  },
  {
   "cell_type": "code",
   "execution_count": 139,
   "metadata": {},
   "outputs": [
    {
     "name": "stdout",
     "output_type": "stream",
     "text": [
      "('x_train_df shape: ', (30471, 291))\n",
      "('x_test_df shape: ', (7662, 291))\n",
      "('shape after onehot encoding: ', (38133, 1887))\n"
     ]
    }
   ],
   "source": [
    "y_train = train_df['price_doc'].as_matrix()\n",
    "x_train_df = train_df.drop(['price_doc'],1)\n",
    "print('x_train_df shape: ',x_train_df.shape)\n",
    "print('x_test_df shape: ',x_test_df.shape)\n",
    "\n",
    "#we should on-hot encode test and train togather as labels should math\n",
    "x_all_df = x_train_df.append(x_test_df)\n",
    "string_columns = x_train_df.select_dtypes(include=['object']).columns.tolist()\n",
    "\n",
    "#one hot encode string columns\n",
    "x_all_onehot_df = pd.get_dummies(x_all_df,columns=string_columns)\n",
    "print('shape after onehot encoding: ', x_all_onehot_df.shape)\n",
    "\n",
    "#again separate train and test features\n",
    "x_train_onehot = x_all_onehot_df[0:x_train_df.shape[0]].as_matrix()\n",
    "x_test_onehot = x_all_onehot_df[x_train_df.shape[0]::].as_matrix()"
   ]
  },
  {
   "cell_type": "markdown",
   "metadata": {},
   "source": [
    "### Train the model"
   ]
  },
  {
   "cell_type": "code",
   "execution_count": 140,
   "metadata": {},
   "outputs": [
    {
     "data": {
      "text/plain": [
       "XGBRegressor(base_score=0.5, colsample_bytree=1, gamma=0, learning_rate=0.1,\n",
       "       max_delta_step=0, max_depth=3, min_child_weight=1, missing=None,\n",
       "       n_estimators=100, nthread=-1, objective='reg:linear', seed=0,\n",
       "       silent=True, subsample=1)"
      ]
     },
     "execution_count": 140,
     "metadata": {},
     "output_type": "execute_result"
    }
   ],
   "source": [
    "model = xgb.XGBRegressor()\n",
    "model.fit(x_train_onehot, y_train)"
   ]
  },
  {
   "cell_type": "code",
   "execution_count": 141,
   "metadata": {},
   "outputs": [],
   "source": [
    "y_test = model.predict(x_test_onehot)\n",
    "# y_pred = model.predict()"
   ]
  },
  {
   "cell_type": "markdown",
   "metadata": {},
   "source": [
    "### Submission 1\n",
    "So we are submitting without any feature engineering or parameter optmization for xgboost. Some columns could also be wrongly classified as string columns and one-hot encoded"
   ]
  },
  {
   "cell_type": "code",
   "execution_count": 142,
   "metadata": {},
   "outputs": [],
   "source": [
    "submission = pd.DataFrame({\n",
    "    'id': x_test['id'],\n",
    "    'price_doc': y_test\n",
    "})\n",
    "submission.to_csv('./data/submission_v0.12.csv',index=False)\n",
    "\n",
    "#Ranked 836 and score was 0.32577"
   ]
  },
  {
   "cell_type": "markdown",
   "metadata": {},
   "source": [
    "### Submission 2"
   ]
  },
  {
   "cell_type": "code",
   "execution_count": 169,
   "metadata": {},
   "outputs": [
    {
     "name": "stdout",
     "output_type": "stream",
     "text": [
      "('training data shape: ', (30471, 292))\n",
      "('test data shape: ', (7662, 291))\n",
      "('x_train_df shape: ', (30471, 291))\n",
      "('x_test_df shape: ', (7662, 291))\n"
     ]
    },
    {
     "data": {
      "text/plain": [
       "['timestamp',\n",
       " 'product_type',\n",
       " 'sub_area',\n",
       " 'culture_objects_top_25',\n",
       " 'thermal_power_plant_raion',\n",
       " 'incineration_raion',\n",
       " 'oil_chemistry_raion',\n",
       " 'radiation_raion',\n",
       " 'railroad_terminal_raion',\n",
       " 'big_market_raion',\n",
       " 'nuclear_reactor_raion',\n",
       " 'detention_facility_raion',\n",
       " 'water_1line',\n",
       " 'big_road1_1line',\n",
       " 'railroad_1line',\n",
       " 'ecology']"
      ]
     },
     "execution_count": 169,
     "metadata": {},
     "output_type": "execute_result"
    }
   ],
   "source": [
    "train_df = pd.read_csv('./data/train.csv')\n",
    "x_test_df = pd.read_csv('./data/test.csv')\n",
    "\n",
    "print('training data shape: ', train_df.shape)\n",
    "print('test data shape: ', x_test_df.shape)\n",
    "\n",
    "y_train = train_df['price_doc'].as_matrix()\n",
    "x_train_df = train_df.drop(['price_doc'],1)\n",
    "print('x_train_df shape: ',x_train_df.shape)\n",
    "print('x_test_df shape: ',x_test_df.shape)\n",
    "\n",
    "#we should on-hot encode test and train togather as labels should math\n",
    "x_all_df = x_train_df.append(x_test_df)\n",
    "string_columns = x_train_df.select_dtypes(include=['object']).columns.tolist()\n",
    "\n",
    "#let us check what the string columns are\n",
    "string_columns"
   ]
  },
  {
   "cell_type": "markdown",
   "metadata": {},
   "source": [
    "Timestamp is getting identifed as string. Lets fix this"
   ]
  },
  {
   "cell_type": "code",
   "execution_count": 170,
   "metadata": {},
   "outputs": [
    {
     "name": "stdout",
     "output_type": "stream",
     "text": [
      "('shape after onehot encoding: ', (38133, 456))\n"
     ]
    }
   ],
   "source": [
    "#create new features from timestamp\n",
    "x_dt = pd.to_datetime(x_all_df['timestamp'],format='%Y-%m-%d')\n",
    "x_all_df['year'] = x_dt.dt.year\n",
    "x_all_df['month'] =  x_dt.dt.month\n",
    "x_all_df['day'] = x_dt.dt.day\n",
    "x_all_df['quarter'] = x_dt.dt.quarter\n",
    "x_all_df.drop('timestamp', axis=1,inplace=True)\n",
    "# x_all_df.drop('datetime')\n",
    "\n",
    "string_columns = x_all_df.select_dtypes(include=['object']).columns.tolist()\n",
    "\n",
    "#one hot encode string columns\n",
    "x_all_onehot_df = pd.get_dummies(x_all_df,columns=string_columns)\n",
    "print('shape after onehot encoding: ', x_all_onehot_df.shape)\n",
    "\n",
    "#again separate train and test features\n",
    "x_train_onehot = x_all_onehot_df[0:x_train_df.shape[0]].as_matrix()\n",
    "x_test_onehot = x_all_onehot_df[x_train_df.shape[0]::].as_matrix()\n",
    "\n",
    "#train\n",
    "model = xgb.XGBRegressor()\n",
    "model.fit(x_train_onehot, y_train)\n",
    "\n",
    "#predict\n",
    "y_test = model.predict(x_test_onehot)\n",
    "\n",
    "\n",
    "submission = pd.DataFrame({\n",
    "    'id': x_test['id'],\n",
    "    'price_doc': y_test\n",
    "})\n",
    "submission.to_csv('./data/submission_v0.2.csv',index=False)\n",
    "\n",
    "#result is 0.33636, which is worse than submisison 1\n"
   ]
  },
  {
   "cell_type": "markdown",
   "metadata": {},
   "source": []
  },
  {
   "cell_type": "code",
   "execution_count": null,
   "metadata": {
    "collapsed": true
   },
   "outputs": [],
   "source": []
  }
 ],
 "metadata": {
  "kernelspec": {
   "display_name": "Python 2",
   "language": "python",
   "name": "python2"
  },
  "language_info": {
   "codemirror_mode": {
    "name": "ipython",
    "version": 2
   },
   "file_extension": ".py",
   "mimetype": "text/x-python",
   "name": "python",
   "nbconvert_exporter": "python",
   "pygments_lexer": "ipython2",
   "version": "2.7.13"
  }
 },
 "nbformat": 4,
 "nbformat_minor": 2
}
