{
 "cells": [
  {
   "cell_type": "code",
   "execution_count": 1,
   "metadata": {
    "collapsed": false
   },
   "outputs": [
    {
     "name": "stderr",
     "output_type": "stream",
     "text": [
      "/opt/conda/lib/python3.5/site-packages/IPython/html.py:14: ShimWarning: The `IPython.html` package has been deprecated. You should import from `notebook` instead. `IPython.html.widgets` has moved to `ipywidgets`.\n",
      "  \"`IPython.html.widgets` has moved to `ipywidgets`.\", ShimWarning)\n"
     ]
    }
   ],
   "source": [
    "import numpy as np\n",
    "import pandas as pd\n",
    "import matplotlib.pyplot as plt\n",
    "from sklearn import preprocessing\n",
    "import seaborn as sns\n",
    "%matplotlib inline\n",
    "import xgboost as xgb\n",
    "from sklearn import linear_model\n",
    "import operator\n",
    "from sklearn.grid_search import GridSearchCV\n",
    "from sklearn import cross_validation, metrics"
   ]
  },
  {
   "cell_type": "markdown",
   "metadata": {},
   "source": [
    "### Read the data and check the shapes"
   ]
  },
  {
   "cell_type": "code",
   "execution_count": 2,
   "metadata": {
    "collapsed": true
   },
   "outputs": [],
   "source": [
    "def load_data():\n",
    "    train_df = pd.read_csv('../data/train.csv')\n",
    "    x_test_df = pd.read_csv('../data/test.csv')\n",
    "    \n",
    "    y_train = train_df['price_doc'].as_matrix()\n",
    "    x_train_df = train_df.drop(['price_doc'],1)\n",
    "    return (x_train_df, y_train, x_test_df)\n",
    "\n",
    "#x_train_df, y_train, x_test_df = load_data()\n",
    "\n",
    "def impute_data(df):\n",
    "    columns_with_nulls = df.columns[df.isnull().any()].tolist()\n",
    "    string_columns = df.select_dtypes(include=['object']).columns.tolist()\n",
    "\n",
    "    for col in columns_with_nulls:\n",
    "        if col in string_columns:\n",
    "            #populate the most common categorical value\n",
    "            df[col] = df[col].fillna(df[col].value_counts().index[0])\n",
    "        else:\n",
    "            #populate with mean of column for missing values\n",
    "            df[col] = df[col].fillna(np.mean(df[col]))\n",
    "    return df   \n",
    "\n",
    "def add_features(df):\n",
    "    x_dt = pd.to_datetime(df['timestamp'],format='%Y-%m-%d')\n",
    "    df['year'] = x_dt.dt.year\n",
    "    df['month'] =  x_dt.dt.month\n",
    "    df['day'] = x_dt.dt.day\n",
    "    df['quarter'] = x_dt.dt.quarter\n",
    "    df['days_since'] = (x_dt - x_dt.min()).astype('timedelta64[D]')\n",
    "    return df\n",
    "\n",
    "def onehot_encode(df,include_string_cols=True,other_cols=[]):\n",
    "    cols = other_cols\n",
    "    if include_string_cols:\n",
    "        cols = cols.append(df.select_dtypes(include=['object']).columns.tolist())\n",
    "    return pd.get_dummies(df,columns=cols)"
   ]
  },
  {
   "cell_type": "code",
   "execution_count": 10,
   "metadata": {
    "collapsed": false
   },
   "outputs": [
    {
     "name": "stdout",
     "output_type": "stream",
     "text": [
      "('shape after onehot encoding: ', (38133, 1887))\n"
     ]
    }
   ],
   "source": [
    "#load data\n",
    "x_train_df, y_train_df, x_test_df = load_data()\n",
    "\n",
    "#we should on-hot encode test and train togather as labels should math\n",
    "x_all_df = x_train_df.append(x_test_df)\n",
    "string_columns = x_train_df.select_dtypes(include=['object']).columns.tolist()\n",
    "\n",
    "#one hot encode string columns\n",
    "x_all_onehot_df = pd.get_dummies(x_all_df,columns=string_columns)\n",
    "print('shape after onehot encoding: ', x_all_onehot_df.shape)\n",
    "\n",
    "#again separate train and test features\n",
    "x_train_onehot = x_all_onehot_df[0:x_train_df.shape[0]].as_matrix()\n",
    "x_test_onehot = x_all_onehot_df[x_train_df.shape[0]::].as_matrix()"
   ]
  },
  {
   "cell_type": "markdown",
   "metadata": {},
   "source": [
    "### Train the model"
   ]
  },
  {
   "cell_type": "code",
   "execution_count": 38,
   "metadata": {
    "collapsed": false
   },
   "outputs": [
    {
     "data": {
      "text/plain": [
       "XGBRegressor(base_score=0.5, colsample_bytree=1, gamma=0, learning_rate=0.1,\n",
       "       max_delta_step=0, max_depth=3, min_child_weight=1, missing=None,\n",
       "       n_estimators=100, nthread=-1, objective='reg:linear', seed=0,\n",
       "       silent=True, subsample=1)"
      ]
     },
     "execution_count": 38,
     "metadata": {},
     "output_type": "execute_result"
    }
   ],
   "source": [
    "model = xgb.XGBRegressor()\n",
    "model.fit(x_train_onehot, y_train_df.as_matrix())"
   ]
  },
  {
   "cell_type": "code",
   "execution_count": 141,
   "metadata": {
    "collapsed": true
   },
   "outputs": [],
   "source": [
    "y_test = model.predict(x_test_onehot)\n",
    "# y_pred = model.predict()"
   ]
  },
  {
   "cell_type": "markdown",
   "metadata": {},
   "source": [
    "### Submission 1\n",
    "So we are submitting without any feature engineering or parameter optmization for xgboost. Some columns could also be wrongly classified as string columns and one-hot encoded"
   ]
  },
  {
   "cell_type": "code",
   "execution_count": 142,
   "metadata": {
    "collapsed": true
   },
   "outputs": [],
   "source": [
    "submission = pd.DataFrame({\n",
    "    'id': x_test['id'],\n",
    "    'price_doc': y_test\n",
    "})\n",
    "submission.to_csv('./data/submission_v0.12.csv',index=False)\n",
    "\n",
    "#Ranked 836 and score was 0.32577"
   ]
  },
  {
   "cell_type": "markdown",
   "metadata": {},
   "source": [
    "### Submission 2"
   ]
  },
  {
   "cell_type": "code",
   "execution_count": 24,
   "metadata": {
    "collapsed": false
   },
   "outputs": [
    {
     "data": {
      "text/plain": [
       "['timestamp',\n",
       " 'product_type',\n",
       " 'sub_area',\n",
       " 'culture_objects_top_25',\n",
       " 'thermal_power_plant_raion',\n",
       " 'incineration_raion',\n",
       " 'oil_chemistry_raion',\n",
       " 'radiation_raion',\n",
       " 'railroad_terminal_raion',\n",
       " 'big_market_raion',\n",
       " 'nuclear_reactor_raion',\n",
       " 'detention_facility_raion',\n",
       " 'water_1line',\n",
       " 'big_road1_1line',\n",
       " 'railroad_1line',\n",
       " 'ecology']"
      ]
     },
     "execution_count": 24,
     "metadata": {},
     "output_type": "execute_result"
    }
   ],
   "source": [
    "x_train_df, y_train, x_test_df = load_data()\n",
    "\n",
    "#we should on-hot encode test and train togather as labels should math\n",
    "x_all_df = x_train_df.append(x_test_df)\n",
    "string_columns = x_train_df.select_dtypes(include=['object']).columns.tolist()\n",
    "\n",
    "#let us check what the string columns are\n",
    "string_columns"
   ]
  },
  {
   "cell_type": "markdown",
   "metadata": {},
   "source": [
    "Timestamp is getting identifed as string. Lets fix this"
   ]
  },
  {
   "cell_type": "code",
   "execution_count": 26,
   "metadata": {
    "collapsed": false
   },
   "outputs": [
    {
     "name": "stdout",
     "output_type": "stream",
     "text": [
      "('shape after onehot encoding: ', (38133, 1892))\n"
     ]
    }
   ],
   "source": [
    "x_all_df = add_features(x_all_df)\n",
    "\n",
    "#one hot encode string columns\n",
    "string_columns = x_train_df.select_dtypes(include=['object']).columns.tolist()\n",
    "x_all_onehot_df = pd.get_dummies(x_all_df,columns=string_columns)\n",
    "print('shape after onehot encoding: ', x_all_onehot_df.shape)\n",
    "\n",
    "#again separate train and test features\n",
    "x_train_onehot = x_all_onehot_df[0:x_train_df.shape[0]].as_matrix()\n",
    "x_test_onehot = x_all_onehot_df[x_train_df.shape[0]::].as_matrix()\n",
    "\n",
    "#train\n",
    "model = xgb.XGBRegressor(max_depth=6,learning_rate=0.05)\n",
    "model.fit(x_train_onehot, y_train)\n",
    "\n",
    "#predict\n",
    "y_test = model.predict(x_test_onehot)\n",
    "\n",
    "submission = pd.DataFrame({\n",
    "    'id': x_test_df['id'],\n",
    "    'price_doc': y_test\n",
    "})\n",
    "submission.to_csv('./data/submission_v0.31.csv',index=False)\n"
   ]
  },
  {
   "cell_type": "code",
   "execution_count": 21,
   "metadata": {
    "collapsed": true
   },
   "outputs": [],
   "source": [
    "\n",
    "submission = pd.DataFrame({\n",
    "    'id': x_test_df['id'],\n",
    "    'price_doc': y_test\n",
    "})\n",
    "submission.to_csv('./data/submission_v0.3.csv',index=False)"
   ]
  },
  {
   "cell_type": "markdown",
   "metadata": {},
   "source": [
    "1. result is 0.33636 (if I drop datetime column), which is worse than submisison 1\n",
    "2. result is 0.32501 and rank is 767, if I retain the timestamp column, and increase the max_depth to 6 and change learning rate to 0.05\n",
    "3. result is 0.34385, when I increased depth to 20 and added the feature 'days_since'\n",
    "4. result is 0.32798, when I set max_depth to 6\n",
    "5. result is 0.32501. So 'days_since' has no impact\n"
   ]
  },
  {
   "cell_type": "code",
   "execution_count": null,
   "metadata": {
    "collapsed": true
   },
   "outputs": [],
   "source": [
    "#we should on-hot encode test and train togather as labels should math\n",
    "# x_all_df = x_train_df.append(x_test_df)\n",
    "\n",
    "#one hot encode string columns\n",
    "x_all_onehot_df = pd.get_dummies(x_all_df,columns=string_columns)\n",
    "print('shape after onehot encoding: ', x_all_onehot_df.shape)\n",
    "\n",
    "#again separate train and test features\n",
    "x_train_onehot = x_all_onehot_df[0:x_train_df.shape[0]].as_matrix()\n",
    "x_test_onehot = x_all_onehot_df[x_train_df.shape[0]::].as_matrix()\n",
    "\n",
    "#train\n",
    "model = xgb.XGBRegressor(max_depth=6,learning_rate=0.1)\n",
    "model.fit(x_train_onehot, y_train)\n",
    "\n",
    "#predict\n",
    "y_test = model.predict(x_test_onehot)\n",
    "\n",
    "\n",
    "submission_v4 = pd.DataFrame({\n",
    "    'id': x_test['id'],\n",
    "    'price_doc': y_test\n",
    "})\n",
    "submission_v4.to_csv('./data/submission_v0.4.csv',index=False)"
   ]
  },
  {
   "cell_type": "markdown",
   "metadata": {},
   "source": [
    "#### Feature Importance\n",
    "Let us understand the feature importance"
   ]
  },
  {
   "cell_type": "code",
   "execution_count": 41,
   "metadata": {
    "collapsed": false
   },
   "outputs": [
    {
     "data": {
      "text/plain": [
       "<matplotlib.axes._subplots.AxesSubplot at 0x7f821c543f98>"
      ]
     },
     "execution_count": 41,
     "metadata": {},
     "output_type": "execute_result"
    },
    {
     "data": {
      "image/png": "[encoded data removed]",
      "text/plain": [
       "<matplotlib.figure.Figure at 0x7f821c5c5ba8>"
      ]
     },
     "metadata": {},
     "output_type": "display_data"
    }
   ],
   "source": [
    "#dataframe of features\n",
    "feature_scores_df = pd.DataFrame(list(model._Booster.get_fscore().items()),columns=['feature_name','score'])\n",
    "feature_scores_df = feature_scores_df.sort_values('score',ascending=False)\n",
    "fig, ax = plt.subplots(figsize=(12,18))\n",
    "\n",
    "sns.barplot(x=\"score\", y=\"feature_name\", data=feature_scores_df.head(30),label=\"Feature Importance\", color=\"b\")"
   ]
  },
  {
   "cell_type": "markdown",
   "metadata": {},
   "source": [
    "We can clearly see that id field is given the highest importance, which is wrong. \n",
    "\n",
    "### Submission 3"
   ]
  },
  {
   "cell_type": "code",
   "execution_count": 3,
   "metadata": {
    "collapsed": false
   },
   "outputs": [
    {
     "data": {
      "text/plain": [
       "XGBRegressor(base_score=0.5, colsample_bylevel=1, colsample_bytree=1, gamma=0,\n",
       "       learning_rate=0.1, max_delta_step=0, max_depth=6,\n",
       "       min_child_weight=1, missing=None, n_estimators=300, nthread=-1,\n",
       "       objective='reg:linear', reg_alpha=0, reg_lambda=1,\n",
       "       scale_pos_weight=1, seed=0, silent=True, subsample=1)"
      ]
     },
     "execution_count": 3,
     "metadata": {},
     "output_type": "execute_result"
    }
   ],
   "source": [
    "x_train_df, y_train, x_test_df = load_data()\n",
    "x_all_df = x_train_df.append(x_test_df)\n",
    "x_all_df = add_features(x_all_df)\n",
    "x_all_df = x_all_df.drop(['id','timestamp'],axis=1)\n",
    "x_all_onehot_df = onehot_encode(x_all_df,other_cols=['month','quarter'])\n",
    "\n",
    "#again separate train and test features\n",
    "x_train_onehot_df = x_all_onehot_df[0:x_train_df.shape[0]]\n",
    "x_test_onehot_df = x_all_onehot_df[x_train_df.shape[0]::]\n",
    "\n",
    "#train\n",
    "model = xgb.XGBRegressor(max_depth=6,learning_rate=0.1,n_estimators=300)\n",
    "# model.fit(x_train_onehot, y_train, eval_metric='mlogloss',verbose=True)\n",
    "model.fit(x_train_onehot_df, y_train,verbose=True)\n"
   ]
  },
  {
   "cell_type": "code",
   "execution_count": 7,
   "metadata": {
    "collapsed": false
   },
   "outputs": [
    {
     "name": "stdout",
     "output_type": "stream",
     "text": [
      "/notebooks/notebooks\r\n"
     ]
    },
    {
     "data": {
      "image/png": "[encoded data removed]",
      "text/plain": [
       "<matplotlib.figure.Figure at 0x7fc8f5a07518>"
      ]
     },
     "metadata": {},
     "output_type": "display_data"
    }
   ],
   "source": [
    "feature_scores = pd.DataFrame(list(model.booster().get_fscore().items()),columns=['feature_name','score'])\n",
    "feature_scores = feature_scores.sort_values('score',ascending=False).head(30)\n",
    "fig, ax = plt.subplots(figsize=(12,18))\n",
    "sns.barplot(x='score', y='feature_name',data=feature_scores)\n",
    "\n",
    "#predict\n",
    "y_test = model.predict(x_test_onehot_df)\n",
    "\n",
    "# print(x_test_onehot_df)\n",
    "\n",
    "submission = pd.DataFrame({\n",
    "    'id': x_test_df['id'].tolist(),\n",
    "    'price_doc': y_test\n",
    "})\n",
    "!pwd\n",
    "submission.to_csv('../data/submission_v0.5.csv',index=False)"
   ]
  },
  {
   "cell_type": "markdown",
   "metadata": {},
   "source": [
    "### Regression - time series\n",
    "trees cannot take advantage of the time series information - my understanding (could be wrong). So let us try regression and combine the results"
   ]
  },
  {
   "cell_type": "code",
   "execution_count": 15,
   "metadata": {
    "collapsed": true
   },
   "outputs": [],
   "source": [
    "x_train_df, y_train, x_test_df = load_data()\n",
    "x_all_df = x_train_df.append(x_test_df)\n",
    "x_all_df = impute_data(x_all_df)\n",
    "\n",
    "x_all_df = add_features(x_all_df)\n",
    "x_all_df = x_all_df.drop(['id','timestamp'],axis=1)\n",
    "\n",
    "#one hot encode string columns\n",
    "x_all_onehot_df = onehot_encode(x_all_df,other_cols=['month','quarter'])\n",
    "# columns_with_nulls = x_all_df.colxgb.plot_importance(bst)umns[x_all_df.isnull().any()].tolist()"
   ]
  },
  {
   "cell_type": "code",
   "execution_count": 244,
   "metadata": {
    "collapsed": false
   },
   "outputs": [
    {
     "data": {
      "text/plain": [
       "LinearRegression(copy_X=True, fit_intercept=True, n_jobs=1, normalize=False)"
      ]
     },
     "execution_count": 244,
     "metadata": {},
     "output_type": "execute_result"
    }
   ],
   "source": [
    "regr = linear_model.LinearRegression()\n",
    "regr.fit(x_all_onehot_df[0:x_train_df.shape[0]].as_matrix(),y_train)"
   ]
  },
  {
   "cell_type": "code",
   "execution_count": 245,
   "metadata": {
    "collapsed": true
   },
   "outputs": [],
   "source": [
    "regr_y_pred = regr.predict(x_all_onehot_df[x_train_df.shape[0]::].as_matrix())\n",
    "\n",
    "submission_v5 = pd.DataFrame({\n",
    "    'id': x_test['id'],\n",
    "    'price_doc': regr_y_pred\n",
    "})\n",
    "submission_v5.to_csv('./data/submission_regr_v0.5.csv',index=False)"
   ]
  },
  {
   "cell_type": "code",
   "execution_count": 28,
   "metadata": {
    "collapsed": false
   },
   "outputs": [
    {
     "data": {
      "text/plain": [
       "XGBRegressor(base_score=0.5, colsample_bytree=1, gamma=0, learning_rate=0.05,\n",
       "       max_delta_step=0, max_depth=6, min_child_weight=1, missing=None,\n",
       "       n_estimators=100, nthread=-1, objective='reg:linear', seed=0,\n",
       "       silent=True, subsample=1)"
      ]
     },
     "execution_count": 28,
     "metadata": {},
     "output_type": "execute_result"
    }
   ],
   "source": [
    "x_all_onehot_df.columns\n",
    "model"
   ]
  },
  {
   "cell_type": "code",
   "execution_count": 3,
   "metadata": {
    "collapsed": true
   },
   "outputs": [],
   "source": [
    "train_df = pd.read_csv('./data/train.csv',parse_dates=['timestamp'])"
   ]
  },
  {
   "cell_type": "code",
   "execution_count": 19,
   "metadata": {
    "collapsed": true
   },
   "outputs": [],
   "source": [
    "dtype_df = train_df.dtypes.reset_index()"
   ]
  },
  {
   "cell_type": "code",
   "execution_count": 23,
   "metadata": {
    "collapsed": false
   },
   "outputs": [
    {
     "data": {
      "text/html": [
       "<div>\n",
       "<table border=\"1\" class=\"dataframe\">\n",
       "  <thead>\n",
       "    <tr style=\"text-align: right;\">\n",
       "      <th></th>\n",
       "      <th>col_type</th>\n",
       "      <th>col_name</th>\n",
       "    </tr>\n",
       "  </thead>\n",
       "  <tbody>\n",
       "    <tr>\n",
       "      <th>0</th>\n",
       "      <td>int64</td>\n",
       "      <td>157</td>\n",
       "    </tr>\n",
       "    <tr>\n",
       "      <th>1</th>\n",
       "      <td>datetime64[ns]</td>\n",
       "      <td>1</td>\n",
       "    </tr>\n",
       "    <tr>\n",
       "      <th>2</th>\n",
       "      <td>float64</td>\n",
       "      <td>119</td>\n",
       "    </tr>\n",
       "    <tr>\n",
       "      <th>3</th>\n",
       "      <td>object</td>\n",
       "      <td>15</td>\n",
       "    </tr>\n",
       "  </tbody>\n",
       "</table>\n",
       "</div>"
      ],
      "text/plain": [
       "         col_type  col_name\n",
       "0           int64       157\n",
       "1  datetime64[ns]         1\n",
       "2         float64       119\n",
       "3          object        15"
      ]
     },
     "execution_count": 23,
     "metadata": {},
     "output_type": "execute_result"
    }
   ],
   "source": [
    "dtype_df.columns = ['col_name','col_type']\n",
    "dtype_df.groupby('col_type').aggregate('count').reset_index()"
   ]
  },
  {
   "cell_type": "code",
   "execution_count": 35,
   "metadata": {
    "collapsed": false
   },
   "outputs": [
    {
     "data": {
      "text/plain": [
       "array([ 0,  1,  2,  3,  4,  5,  6,  7,  8,  9, 10, 11, 12, 13, 14, 15, 16,\n",
       "       17, 18, 19, 20, 21, 22, 23, 24, 25, 26, 27, 28, 29, 30, 31, 32, 33,\n",
       "       34, 35, 36, 37, 38, 39, 40, 41, 42, 43, 44, 45, 46, 47, 48, 49, 50])"
      ]
     },
     "execution_count": 35,
     "metadata": {},
     "output_type": "execute_result"
    }
   ],
   "source": [
    "missing_df = train_df.isnull().sum(axis=0).reset_index()\n",
    "missing_df.columns = ['column_name','missing_count']\n",
    "missing_df = missing_df.ix[missing_df['missing_count']>0]\n",
    "ind = np.arange(missing_df.shape[0])\n",
    "ind"
   ]
  },
  {
   "cell_type": "markdown",
   "metadata": {},
   "source": [
    "### Important features\n",
    "Let us use xgb.train to an idea of important parameters"
   ]
  },
  {
   "cell_type": "code",
   "execution_count": 38,
   "metadata": {
    "collapsed": false
   },
   "outputs": [],
   "source": [
    "x_train_df, y_train, x_test_df = load_data()\n",
    "\n",
    "for f in x_train_df.columns:\n",
    "    if x_train_df[f].dtype=='object':\n",
    "        lbl = preprocessing.LabelEncoder()\n",
    "        lbl.fit(list(x_train_df[f].values)) \n",
    "        x_train_df[f] = lbl.transform(list(x_train_df[f].values))\n",
    "        \n",
    "xgb_params = {\n",
    "    'eta': 0.05,\n",
    "    'max_depth': 8,\n",
    "    'subsample': 0.7,\n",
    "    'colsample_bytree': 0.7,\n",
    "    'objective': 'reg:linear',\n",
    "    'eval_metric': 'rmse',\n",
    "    'silent': 1\n",
    "}\n",
    "\n",
    "# ??xgb.DMatrix\n",
    "\n",
    "dtrain = xgb.DMatrix(x_train_df.as_matrix(), y_train, feature_names=x_train_df.columns.values)\n",
    "model_train = xgb.train(dict(xgb_params, silent=0), dtrain, num_boost_round=100)"
   ]
  },
  {
   "cell_type": "code",
   "execution_count": null,
   "metadata": {
    "collapsed": true
   },
   "outputs": [],
   "source": []
  }
 ],
 "metadata": {
  "kernelspec": {
   "display_name": "Python 3",
   "language": "python",
   "name": "python3"
  },
  "language_info": {
   "codemirror_mode": {
    "name": "ipython",
    "version": 3
   },
   "file_extension": ".py",
   "mimetype": "text/x-python",
   "name": "python",
   "nbconvert_exporter": "python",
   "pygments_lexer": "ipython3",
   "version": "3.5.2"
  }
 },
 "nbformat": 4,
 "nbformat_minor": 2
}
